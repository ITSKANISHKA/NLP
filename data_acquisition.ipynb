{
  "nbformat": 4,
  "nbformat_minor": 0,
  "metadata": {
    "colab": {
      "provenance": []
    },
    "kernelspec": {
      "name": "python3",
      "display_name": "Python 3"
    },
    "language_info": {
      "name": "python"
    }
  },
  "cells": [
    {
      "cell_type": "code",
      "execution_count": null,
      "metadata": {
        "id": "VSTaOpx-t3dx"
      },
      "outputs": [],
      "source": []
    },
    {
      "cell_type": "markdown",
      "source": [
        "1.Synonym **Replacemnet**"
      ],
      "metadata": {
        "id": "6fy1BxMZt_TT"
      }
    },
    {
      "cell_type": "code",
      "source": [
        "import random\n",
        "import nltk #import the natural language toolkit ,a powerful library in python used for text preprocessing\n",
        "from nltk.corpus import wordnet #wordnet is a lexical database of english words in nltk,mainly used for synonyms\n",
        "\n",
        "\n",
        "nltk.download(\"wordnet\")  #download the wordnet corpus\n",
        "nltk.download(\"omw-1.4\")  #for multiingual wordnet support mainly used for translation\n",
        "nltk.download('punkt')  #for tokenization,downloads the punkt tokenizer models\n",
        "\n",
        "nltk.download('punkt_tab')\n",
        "\n"
      ],
      "metadata": {
        "colab": {
          "base_uri": "https://localhost:8080/"
        },
        "id": "UGs22rDVuDFO",
        "outputId": "63967563-20c1-4f0e-de1a-8389ccf07b77"
      },
      "execution_count": null,
      "outputs": [
        {
          "output_type": "stream",
          "name": "stderr",
          "text": [
            "[nltk_data] Downloading package wordnet to /root/nltk_data...\n",
            "[nltk_data]   Package wordnet is already up-to-date!\n",
            "[nltk_data] Downloading package omw-1.4 to /root/nltk_data...\n",
            "[nltk_data]   Package omw-1.4 is already up-to-date!\n",
            "[nltk_data] Downloading package punkt to /root/nltk_data...\n",
            "[nltk_data]   Package punkt is already up-to-date!\n",
            "[nltk_data] Downloading package punkt_tab to /root/nltk_data...\n",
            "[nltk_data]   Unzipping tokenizers/punkt_tab.zip.\n"
          ]
        },
        {
          "output_type": "execute_result",
          "data": {
            "text/plain": [
              "True"
            ]
          },
          "metadata": {},
          "execution_count": 15
        }
      ]
    },
    {
      "cell_type": "code",
      "source": [
        "text=\"The movie was absoultely fantastic and enjoyable\""
      ],
      "metadata": {
        "id": "pPcVQbpkv8f_"
      },
      "execution_count": null,
      "outputs": []
    },
    {
      "cell_type": "code",
      "source": [
        "import random\n",
        "import nltk #import the natural language toolkit ,a powerful library in python used for text preprocessing\n",
        "from nltk.corpus import wordnet #wordnet is a lexical database of english words in nltk,mainly used for synonyms\n",
        "\n",
        "\n",
        "def get_synonyms(word):\n",
        "\n",
        "  synonyms=set()  #create an empty set to store unique synonyms\n",
        "\n",
        "  #get all synsets (meaning of the word from wordnet\n",
        "  for syn in wordnet.synsets(word):\n",
        "\n",
        "    #each synset has multiple lemmas (word with the same meaning)\n",
        "    for lemma in syn.lemmas():\n",
        "      synonym=lemma.name().replace(\"_\",\" \") #replace underscore in phrases like\"well known\"\n",
        "\n",
        "      # avoid replacing the word with itself (case=insensitive)\n",
        "      if synonym.lower() != word.lower():\n",
        "       synonyms.add(synonym) #add to the set\n",
        "\n",
        "  return list(synonyms) #convert set to list and return\n",
        "\n",
        "def synonym_replacement(text,n=2):  #limitation lga di ki do words ka tokenzation find krna hai\n",
        "  #tokenize the sentence into words\n",
        "\n",
        "  words=nltk.word_tokenize(text)\n",
        "\n",
        "  #make a copy of the words to modify\n",
        "  new_words=words.copy()\n",
        "\n",
        "  #filter to include only alphabetic words(ignore punctuation,numbers,etc.)\n",
        "  random_word_list=list(set([word for word in words if word.isalpha()]))\n",
        "\n",
        "  # shuffle the list to randomly select words for replacement\n",
        "  random.shuffle(random_word_list)\n",
        "\n",
        "  #replace n words with synonyms\n",
        "  num_replaced=0 #keep track of how many words are getting replaced\n",
        "\n",
        "  #go throught words one by one\n",
        "  for word in random_word_list:\n",
        "    synonyms=get_synonyms(word) #get synonyms of the word\n",
        "\n",
        "    if synonyms:\n",
        "      #choose a random synonyms fromt he list\n",
        "      synonym=random.choice(synonyms)\n",
        "\n",
        "      #replace the word in the sentence with the synonyms\n",
        "      new_words=[synonym if w==word else w for w in new_words]\n",
        "      num_replaced+=1\n",
        "\n",
        "      #stop if we reached n words\n",
        "      if num_replaced>=n:\n",
        "        break\n",
        "\n",
        "  #join the list back into a sentence\n",
        "  return \" \".join(new_words)"
      ],
      "metadata": {
        "id": "k94hdPnywIDL"
      },
      "execution_count": null,
      "outputs": []
    },
    {
      "cell_type": "code",
      "source": [
        "v#example usage\n",
        "original=\"The movie was absoultely fantastic and enjoyable\"\n",
        "augmented=synonym_replacement(original,n=2)\n",
        "\n",
        "print(\"Original\",original)\n",
        "print(\"Augmented:\",augmented)"
      ],
      "metadata": {
        "colab": {
          "base_uri": "https://localhost:8080/"
        },
        "id": "qGZBz2UI0ARb",
        "outputId": "69afcf9c-c7da-481b-b1f7-1ddb005c1179"
      },
      "execution_count": null,
      "outputs": [
        {
          "output_type": "stream",
          "name": "stdout",
          "text": [
            "Original The movie was absoultely fantastic and enjoyable\n",
            "Augmented: The movie exist absoultely fantastic and gratifying\n"
          ]
        }
      ]
    },
    {
      "cell_type": "code",
      "source": [
        "def bigram_flip(text):\n",
        "  #tokenize the input text into individual words(tokens)\n",
        "  words=nltk.word_tokenize(text)\n",
        "\n",
        "  #make a copy for tokenized list\n",
        "  new_Words=words.copy()\n",
        "\n",
        "  #create a list of indices for bigran(0 to len -2)\n",
        "\n",
        "  #these indices represnt the first word of each bigram(word pairs)\n",
        "  indices=list(range(len(words)-1))\n",
        "\n",
        "  #if there are fewer than 2 words ,there no bigram to flip\n",
        "  if not indices:\n",
        "    return text #cant flip if fewer than 2 words\n",
        "\n",
        "    #randomly choose one index to flip a bigram\n",
        "    flip_index=random.choice(indices)\n",
        "\n",
        "    #swap the two words at the selected bgram indexes\n",
        "    new_words[flip_index],new_words[flip_index+1]=new_words[flip_index+1],new_words[flip_index]\n",
        "\n",
        "    #join the words back into a sentence and return\n",
        "\n",
        "    return \" \".join(new_words)"
      ],
      "metadata": {
        "id": "BNPSaM8N1l9f"
      },
      "execution_count": null,
      "outputs": []
    },
    {
      "cell_type": "code",
      "source": [
        "#example usage\n",
        "original=\"The movie was absoultely fantastic and enjoyable\"\n",
        "augmented=bigram_flip(original)\n",
        "\n",
        "print(\"Original\",original)\n",
        "print(\"Augmented:\",augmented)"
      ],
      "metadata": {
        "colab": {
          "base_uri": "https://localhost:8080/"
        },
        "id": "GIPkpGxQ3KYN",
        "outputId": "ad1bc36d-3a67-4b68-825e-cdc5ab07c667"
      },
      "execution_count": null,
      "outputs": [
        {
          "output_type": "stream",
          "name": "stdout",
          "text": [
            "Original The movie was absoultely fantastic and enjoyable\n",
            "Augmented: None\n"
          ]
        }
      ]
    },
    {
      "cell_type": "code",
      "source": [
        "!pip install deep-translator"
      ],
      "metadata": {
        "colab": {
          "base_uri": "https://localhost:8080/"
        },
        "id": "c4NJqwHr3er7",
        "outputId": "ef027610-b4d2-4bfa-c7fa-ec24e89a1982"
      },
      "execution_count": null,
      "outputs": [
        {
          "output_type": "stream",
          "name": "stdout",
          "text": [
            "Requirement already satisfied: deep-translator in /usr/local/lib/python3.11/dist-packages (1.11.4)\n",
            "Requirement already satisfied: beautifulsoup4<5.0.0,>=4.9.1 in /usr/local/lib/python3.11/dist-packages (from deep-translator) (4.13.4)\n",
            "Requirement already satisfied: requests<3.0.0,>=2.23.0 in /usr/local/lib/python3.11/dist-packages (from deep-translator) (2.32.3)\n",
            "Requirement already satisfied: soupsieve>1.2 in /usr/local/lib/python3.11/dist-packages (from beautifulsoup4<5.0.0,>=4.9.1->deep-translator) (2.7)\n",
            "Requirement already satisfied: typing-extensions>=4.0.0 in /usr/local/lib/python3.11/dist-packages (from beautifulsoup4<5.0.0,>=4.9.1->deep-translator) (4.14.1)\n",
            "Requirement already satisfied: charset-normalizer<4,>=2 in /usr/local/lib/python3.11/dist-packages (from requests<3.0.0,>=2.23.0->deep-translator) (3.4.2)\n",
            "Requirement already satisfied: idna<4,>=2.5 in /usr/local/lib/python3.11/dist-packages (from requests<3.0.0,>=2.23.0->deep-translator) (3.10)\n",
            "Requirement already satisfied: urllib3<3,>=1.21.1 in /usr/local/lib/python3.11/dist-packages (from requests<3.0.0,>=2.23.0->deep-translator) (2.5.0)\n",
            "Requirement already satisfied: certifi>=2017.4.17 in /usr/local/lib/python3.11/dist-packages (from requests<3.0.0,>=2.23.0->deep-translator) (2025.7.14)\n"
          ]
        }
      ]
    },
    {
      "cell_type": "code",
      "source": [
        "#import google translator from deep_translator\n",
        "\n",
        "from deep_translator import GoogleTranslator\n",
        "\n",
        "#define fun for bak transltion\n",
        "def back_translate_verbose(text,intermediate_lang='fr'):\n",
        "  try:\n",
        "    #translate to french\n",
        "    translated = GoogleTranslator(source='auto',target=intermediate_lang).translate(text)\n",
        "    #translate back to english\n",
        "    back_translated = GoogleTranslator(source=intermediate_lang,target='en').translate(translated)\n",
        "\n",
        "    print(f\"Original:{text}\")\n",
        "    print(f\"Translated({intermediate_lang}):{translated}\")\n",
        "    print(f\"Back Translated(English):{back_translated}\")\n",
        "\n",
        "    return back_translated\n",
        "  except Exception as e:\n",
        "      print(\"Translation error:\",e)\n",
        "      return text"
      ],
      "metadata": {
        "id": "EoDgw9v73qVJ"
      },
      "execution_count": null,
      "outputs": []
    },
    {
      "cell_type": "code",
      "source": [
        "#example\n",
        "text3=\"the movie was good\"\n",
        "augmented3=back_translate_verbose(text3,intermediate_lang='fr')"
      ],
      "metadata": {
        "colab": {
          "base_uri": "https://localhost:8080/"
        },
        "id": "u-pNrjY9493H",
        "outputId": "0f3ec717-c8f1-4c4c-f8a4-980ce069e79e"
      },
      "execution_count": null,
      "outputs": [
        {
          "output_type": "stream",
          "name": "stdout",
          "text": [
            "Original:the movie was good\n",
            "Translated(fr):Le film était bon\n",
            "Back Translated(English):The film was good\n"
          ]
        }
      ]
    },
    {
      "cell_type": "code",
      "source": [
        "#random character swaps\n",
        "import random\n",
        "#define a function to add noise to text using random character swaps\n",
        "def add_noise(text,noise_leve;=0.1):\n",
        "\n",
        "  #convert str into list\n",
        "  text_chars=list(text)\n",
        "\n",
        "  #character the number of noise opeeration to perform\n",
        "  num_noisy=int(len(text_chars)*noise_level)\n",
        "   #loop to perform num noisy random adjcanet swaps\n",
        "\n",
        "\n",
        "  for _ in range(num_noisy):\n",
        "    idx=random.randint(0,len(text_chars)-2)\n",
        "\n",
        "    text_chars[idx],text_chars[idx+1]=text_chars[idx+1],text_cahrs[idx]\n",
        "\n",
        "  return ''.join(text_chars)"
      ],
      "metadata": {
        "id": "YnzGUO8U5zWx"
      },
      "execution_count": null,
      "outputs": []
    },
    {
      "cell_type": "code",
      "source": [
        "text4=\"the movie was good\"\n",
        "aug4=add_noise(text4,noise_level=0.1)\n",
        "print(text4)\n",
        "print(aug4)"
      ],
      "metadata": {
        "id": "R9AGfJu07Wk6"
      },
      "execution_count": null,
      "outputs": []
    },
    {
      "cell_type": "code",
      "source": [],
      "metadata": {
        "id": "X_h_8yc4qMer"
      },
      "execution_count": null,
      "outputs": []
    },
    {
      "cell_type": "markdown",
      "source": [
        "2.Text preprocessing"
      ],
      "metadata": {
        "id": "W-KCtW0EsN67"
      }
    },
    {
      "cell_type": "markdown",
      "source": [
        "a.basic cleaning"
      ],
      "metadata": {
        "id": "kjrTydnDsRS-"
      }
    },
    {
      "cell_type": "code",
      "source": [
        "text1=\"<p> the <b> movie </b> was <i> fantastic </i> and <a href='#'>enjoyable</a>.</p>\""
      ],
      "metadata": {
        "id": "iRn6bLq2sS4n"
      },
      "execution_count": null,
      "outputs": []
    },
    {
      "cell_type": "code",
      "source": [
        "import re #using RegEx\n",
        "\n",
        "def remove_htnl_tags(text):\n",
        "  pattern=re.compile('<.*?>')\n",
        "  return pattern.sub(r'',text)\n"
      ],
      "metadata": {
        "id": "fkR34OHistK9"
      },
      "execution_count": null,
      "outputs": []
    },
    {
      "cell_type": "code",
      "source": [
        "remove_htnl_tags(text1)"
      ],
      "metadata": {
        "id": "YLGvCKsrtgMZ",
        "colab": {
          "base_uri": "https://localhost:8080/",
          "height": 35
        },
        "outputId": "9160c4b2-b749-4e36-91be-1d889ec05ea8"
      },
      "execution_count": null,
      "outputs": [
        {
          "output_type": "execute_result",
          "data": {
            "text/plain": [
              "' the  movie  was  fantastic  and enjoyable.'"
            ],
            "application/vnd.google.colaboratory.intrinsic+json": {
              "type": "string"
            }
          },
          "metadata": {},
          "execution_count": 6
        }
      ]
    },
    {
      "cell_type": "markdown",
      "source": [
        "re.match()\n",
        "\n",
        "this function returns a matchobject on success and none on failure"
      ],
      "metadata": {
        "id": "XT_QkDbLthas"
      }
    },
    {
      "cell_type": "code",
      "source": [
        "import re\n",
        "text='The weather is good'\n",
        "result=re.match('The',text)\n",
        "print(result)\n",
        "print(re.match('is',text))\n",
        "# print(re.match('is'))"
      ],
      "metadata": {
        "colab": {
          "base_uri": "https://localhost:8080/"
        },
        "id": "bcZe_VU_tn4v",
        "outputId": "6bea8791-a77f-4e8c-8f38-a4a230741ae4"
      },
      "execution_count": null,
      "outputs": [
        {
          "output_type": "stream",
          "name": "stdout",
          "text": [
            "<re.Match object; span=(0, 3), match='The'>\n",
            "None\n"
          ]
        }
      ]
    },
    {
      "cell_type": "markdown",
      "source": [
        "re.search()\n",
        "matches the first occurance of a pattern in the entire string(and not just a beginning"
      ],
      "metadata": {
        "id": "7jHYKP3Ouk-w"
      }
    },
    {
      "cell_type": "code",
      "source": [
        "result1=re.search('bringht',text)\n",
        "result2=re.search('weather',text)\n",
        "print(result1)\n",
        "print(result2)"
      ],
      "metadata": {
        "colab": {
          "base_uri": "https://localhost:8080/"
        },
        "id": "re9SFCvot0xQ",
        "outputId": "0c2d4c60-ee04-4519-c95f-7b27acde74ba"
      },
      "execution_count": null,
      "outputs": [
        {
          "output_type": "stream",
          "name": "stdout",
          "text": [
            "None\n",
            "<re.Match object; span=(4, 11), match='weather'>\n"
          ]
        }
      ]
    },
    {
      "cell_type": "markdown",
      "source": [
        "re.findall()\n",
        "it will return all the occurance in the pattern from the string"
      ],
      "metadata": {
        "id": "a3NxDeUJvIpd"
      }
    },
    {
      "cell_type": "code",
      "source": [
        "str=r'The cat jumped gracefully onto gracefully'\n",
        "x=re.findall(r\"nto\\b\",str)\n",
        "print(x)"
      ],
      "metadata": {
        "colab": {
          "base_uri": "https://localhost:8080/"
        },
        "id": "oJBErDpMvZTn",
        "outputId": "2ac60043-e44f-43db-8585-7d69e634f8ee"
      },
      "execution_count": null,
      "outputs": [
        {
          "output_type": "stream",
          "name": "stdout",
          "text": [
            "['nto']\n"
          ]
        }
      ]
    },
    {
      "cell_type": "markdown",
      "source": [
        "\\d-->digits dedega string m se\n",
        "\\d-->ek saath likhi digits ek saath dega"
      ],
      "metadata": {
        "id": "6Qwg6Bd9xhAJ"
      }
    },
    {
      "cell_type": "code",
      "source": [
        "str='world war 2 and 2025'"
      ],
      "metadata": {
        "id": "Z_j4xZOBw3wC"
      },
      "execution_count": null,
      "outputs": []
    },
    {
      "cell_type": "code",
      "source": [
        "x=re.findall('\\d+',str)\n",
        "x1=re.findall('\\d',str)\n",
        "print(x)\n",
        "print(x1)"
      ],
      "metadata": {
        "colab": {
          "base_uri": "https://localhost:8080/"
        },
        "id": "2XDYsCQnxNG8",
        "outputId": "c5937812-ecaf-44d2-b307-a59291686b19"
      },
      "execution_count": null,
      "outputs": [
        {
          "output_type": "stream",
          "name": "stdout",
          "text": [
            "['2', '2025']\n",
            "['2', '2', '0', '2', '5']\n"
          ]
        }
      ]
    },
    {
      "cell_type": "code",
      "source": [
        "x2=re.findall('\\D',str)\n",
        "x3=re.findall('\\D+',str)\n",
        "print(x2)\n",
        "print(x3)"
      ],
      "metadata": {
        "colab": {
          "base_uri": "https://localhost:8080/"
        },
        "id": "LR0csXekx9V4",
        "outputId": "fdcdea8a-3b9d-41bc-f44d-b759d71bb2a4"
      },
      "execution_count": null,
      "outputs": [
        {
          "output_type": "stream",
          "name": "stdout",
          "text": [
            "['w', 'o', 'r', 'l', 'd', ' ', 'w', 'a', 'r', ' ', ' ', 'a', 'n', 'd', ' ']\n",
            "['world war ', ' and ']\n"
          ]
        }
      ]
    },
    {
      "cell_type": "code",
      "source": [
        "x2=re.findall('\\w',str)\n",
        "x4=re.findall('\\w+',str)\n",
        "x5=re.findall('\\W+',str)\n",
        "print(x4)\n",
        "print(x5)\n",
        "x3=re.findall('\\W',str)\n",
        "print(x2)\n",
        "print(x3)"
      ],
      "metadata": {
        "colab": {
          "base_uri": "https://localhost:8080/"
        },
        "id": "7YH8OINhzBve",
        "outputId": "aec8ba84-686a-4722-dd97-65a5e818d3e8"
      },
      "execution_count": null,
      "outputs": [
        {
          "output_type": "stream",
          "name": "stdout",
          "text": [
            "['world', 'war', '2', 'and', '2025']\n",
            "[' ', ' ', ' ', ' ']\n",
            "['w', 'o', 'r', 'l', 'd', 'w', 'a', 'r', '2', 'a', 'n', 'd', '2', '0', '2', '5']\n",
            "[' ', ' ', ' ', ' ']\n"
          ]
        }
      ]
    },
    {
      "cell_type": "markdown",
      "source": [
        "metacharacters\n",
        "(.) matches any character(except newline character\n"
      ],
      "metadata": {
        "id": "CO2mL_d8zfgS"
      }
    },
    {
      "cell_type": "code",
      "source": [
        "str1=r'She visited mummmmbai'"
      ],
      "metadata": {
        "id": "dekXUum-zmZQ"
      },
      "execution_count": null,
      "outputs": []
    },
    {
      "cell_type": "code",
      "source": [
        "x=re.findall(\"vi\",str1)\n",
        "x1=re.findall(\"vis....\",str1)  #jitne dot doge utne metacharcters dega\n",
        "print(x)\n",
        "print(x1)"
      ],
      "metadata": {
        "colab": {
          "base_uri": "https://localhost:8080/"
        },
        "id": "yk_9GH8Czuxm",
        "outputId": "b8ed59b2-6b0e-4f5e-c37d-f98df411f4e1"
      },
      "execution_count": null,
      "outputs": [
        {
          "output_type": "stream",
          "name": "stdout",
          "text": [
            "['vi']\n",
            "['visited']\n"
          ]
        }
      ]
    },
    {
      "cell_type": "markdown",
      "source": [
        "(^) starts with\n",
        "its checks whether the string starts with the given pattern or not"
      ],
      "metadata": {
        "id": "6_PfafZd0ABo"
      }
    },
    {
      "cell_type": "code",
      "source": [
        "x=re.findall(\"^v\",str1)\n",
        "print(x)"
      ],
      "metadata": {
        "colab": {
          "base_uri": "https://localhost:8080/"
        },
        "id": "ijwlQaZIz-_S",
        "outputId": "8dde011c-142d-4053-ef9e-2580622e2edd"
      },
      "execution_count": null,
      "outputs": [
        {
          "output_type": "stream",
          "name": "stdout",
          "text": [
            "[]\n"
          ]
        }
      ]
    },
    {
      "cell_type": "markdown",
      "source": [
        "($)ends with\n",
        "it checks whether the string ends with the given pattern or not"
      ],
      "metadata": {
        "id": "-ai3PRWm0c5w"
      }
    },
    {
      "cell_type": "code",
      "source": [
        "\n",
        "x=re.findall(\"mumbai$\",str1)\n",
        "print(x)"
      ],
      "metadata": {
        "colab": {
          "base_uri": "https://localhost:8080/"
        },
        "id": "SWZxmMs30iLd",
        "outputId": "c622b054-9519-4420-8a98-444450c17980"
      },
      "execution_count": null,
      "outputs": [
        {
          "output_type": "stream",
          "name": "stdout",
          "text": [
            "['mumbai']\n"
          ]
        }
      ]
    },
    {
      "cell_type": "markdown",
      "source": [
        "(*)-->preceding words find krega\n",
        "(+)-->\n",
        "(?)-->"
      ],
      "metadata": {
        "id": "REIoIwfp1Kfw"
      }
    },
    {
      "cell_type": "code",
      "source": [
        "x=re.findall(\"mum*bai\",str1)\n",
        "print(x)"
      ],
      "metadata": {
        "colab": {
          "base_uri": "https://localhost:8080/"
        },
        "id": "p-ObiNmM1TKU",
        "outputId": "9b5db3a6-353b-4113-ca56-a94b4c58ac64"
      },
      "execution_count": null,
      "outputs": [
        {
          "output_type": "stream",
          "name": "stdout",
          "text": [
            "['mummmmbai']\n"
          ]
        }
      ]
    },
    {
      "cell_type": "code",
      "source": [
        "x=re.findall(\"mum+bai\",str1)\n",
        "print(x)"
      ],
      "metadata": {
        "colab": {
          "base_uri": "https://localhost:8080/"
        },
        "id": "Gitl82XK1kTZ",
        "outputId": "cb3eead0-9992-4488-908b-62e42d0e66f1"
      },
      "execution_count": null,
      "outputs": [
        {
          "output_type": "stream",
          "name": "stdout",
          "text": [
            "['mummmmbai']\n"
          ]
        }
      ]
    },
    {
      "cell_type": "markdown",
      "source": [
        "basic cleaning"
      ],
      "metadata": {
        "id": "DNa2hxNTKWR5"
      }
    },
    {
      "cell_type": "code",
      "source": [
        "text2=\"https://colab.research.google.com/drive/1I6E0uGcPrXt9dxZftQsxDrH-iJ5Nqv9N#scrollTo=RsOhGgh9JFfZ\"\n",
        "text3=\"www.google.com\"\n",
        "text4=\"https://colab.research.google.com/drive/1I6E0uGcPrXt9dxZftQsxDrH-iJ5Nqv9N#scrollTo=qGZBz2UI0ARb\""
      ],
      "metadata": {
        "id": "RsOhGgh9JFfZ"
      },
      "execution_count": null,
      "outputs": []
    },
    {
      "cell_type": "code",
      "source": [
        "import re\n",
        "def remove_url(text):\n",
        "  pattern=re.compile(r'https?://\\S+|www\\.\\S+')\n",
        "  return pattern.sub(r'',text)"
      ],
      "metadata": {
        "id": "nM9N7JHIMPpt"
      },
      "execution_count": null,
      "outputs": []
    },
    {
      "cell_type": "code",
      "source": [
        "remove_url(text2)"
      ],
      "metadata": {
        "colab": {
          "base_uri": "https://localhost:8080/",
          "height": 35
        },
        "id": "C1MlnEsEMg-i",
        "outputId": "15589be1-c949-4cb4-f0ca-344fe69e67e8"
      },
      "execution_count": null,
      "outputs": [
        {
          "output_type": "execute_result",
          "data": {
            "text/plain": [
              "''"
            ],
            "application/vnd.google.colaboratory.intrinsic+json": {
              "type": "string"
            }
          },
          "metadata": {},
          "execution_count": 11
        }
      ]
    },
    {
      "cell_type": "markdown",
      "source": [
        "remove puntatuation\n"
      ],
      "metadata": {
        "id": "2K7Df3W2M3sJ"
      }
    },
    {
      "cell_type": "code",
      "source": [
        "import string\n",
        "string.punctuation"
      ],
      "metadata": {
        "colab": {
          "base_uri": "https://localhost:8080/",
          "height": 35
        },
        "id": "1G5tFjuRNJe-",
        "outputId": "5525777e-5a00-4af0-e482-f3f9b706b245"
      },
      "execution_count": null,
      "outputs": [
        {
          "output_type": "execute_result",
          "data": {
            "text/plain": [
              "'!\"#$%&\\'()*+,-./:;<=>?@[\\\\]^_`{|}~'"
            ],
            "application/vnd.google.colaboratory.intrinsic+json": {
              "type": "string"
            }
          },
          "metadata": {},
          "execution_count": 13
        }
      ]
    },
    {
      "cell_type": "code",
      "source": [],
      "metadata": {
        "id": "deI5QU7-M2nS"
      },
      "execution_count": null,
      "outputs": []
    },
    {
      "cell_type": "code",
      "source": [
        "exclude=string.punctuation"
      ],
      "metadata": {
        "id": "nfYgDvaLNSPi"
      },
      "execution_count": null,
      "outputs": []
    },
    {
      "cell_type": "code",
      "source": [
        "def remove_punc(text):\n",
        "  for char in exclude:\n",
        "      text=text.replace(char,'')\n",
        "  return text"
      ],
      "metadata": {
        "id": "LuSMQnNsNViO"
      },
      "execution_count": null,
      "outputs": []
    },
    {
      "cell_type": "code",
      "source": [
        "text5='remove. with. punctuation?'"
      ],
      "metadata": {
        "id": "4IGtMuYPNkMi"
      },
      "execution_count": null,
      "outputs": []
    },
    {
      "cell_type": "code",
      "source": [
        "print(remove_punc(text5))"
      ],
      "metadata": {
        "colab": {
          "base_uri": "https://localhost:8080/"
        },
        "id": "nmO9Z7bhNoV8",
        "outputId": "cfa5a60a-da6c-426a-c0d2-0189b7be9f5b"
      },
      "execution_count": null,
      "outputs": [
        {
          "output_type": "stream",
          "name": "stdout",
          "text": [
            "remove with punctuation\n"
          ]
        }
      ]
    },
    {
      "cell_type": "code",
      "source": [
        "from textblob import TextBlob"
      ],
      "metadata": {
        "id": "khCTfaGgNzTm"
      },
      "execution_count": null,
      "outputs": []
    },
    {
      "cell_type": "code",
      "source": [
        "incc='thisss is noy hwkgdhb ,since it will be considered'\n",
        "textBlb=TextBlob(incc)\n",
        "textBlb.correct().string"
      ],
      "metadata": {
        "colab": {
          "base_uri": "https://localhost:8080/",
          "height": 35
        },
        "id": "UQnweXqIN_d2",
        "outputId": "3b2c5307-7a63-4cb2-8a8f-137a30d8e069"
      },
      "execution_count": null,
      "outputs": [
        {
          "output_type": "execute_result",
          "data": {
            "text/plain": [
              "'this is not hwkgdhb ,since it will be considered'"
            ],
            "application/vnd.google.colaboratory.intrinsic+json": {
              "type": "string"
            }
          },
          "metadata": {},
          "execution_count": 21
        }
      ]
    },
    {
      "cell_type": "code",
      "source": [
        "emojii=\"hey this is to convert emoji into a machine \\U0001F600\""
      ],
      "metadata": {
        "id": "1Zwycx5KORcD"
      },
      "execution_count": null,
      "outputs": []
    },
    {
      "cell_type": "code",
      "source": [
        "emojii"
      ],
      "metadata": {
        "colab": {
          "base_uri": "https://localhost:8080/",
          "height": 35
        },
        "id": "j9BCK3P_OW6b",
        "outputId": "bc948336-88df-4f79-caf3-58030bce1d91"
      },
      "execution_count": null,
      "outputs": [
        {
          "output_type": "execute_result",
          "data": {
            "text/plain": [
              "'hey this is to convert emoji into a machine 😀'"
            ],
            "application/vnd.google.colaboratory.intrinsic+json": {
              "type": "string"
            }
          },
          "metadata": {},
          "execution_count": 26
        }
      ]
    },
    {
      "cell_type": "code",
      "source": [
        "emojii.encode(\"utf-8\")"
      ],
      "metadata": {
        "colab": {
          "base_uri": "https://localhost:8080/"
        },
        "id": "FPwpi5uEOwxk",
        "outputId": "d906e90c-d2a1-403e-97d7-c228e1a22c9a"
      },
      "execution_count": null,
      "outputs": [
        {
          "output_type": "execute_result",
          "data": {
            "text/plain": [
              "b'hey this is to convert emoji into a machine \\xf0\\x9f\\x98\\x80'"
            ]
          },
          "metadata": {},
          "execution_count": 27
        }
      ]
    }
  ]
}