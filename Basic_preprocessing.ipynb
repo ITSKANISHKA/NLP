{
  "nbformat": 4,
  "nbformat_minor": 0,
  "metadata": {
    "colab": {
      "provenance": []
    },
    "kernelspec": {
      "name": "python3",
      "display_name": "Python 3"
    },
    "language_info": {
      "name": "python"
    }
  },
  "cells": [
    {
      "cell_type": "markdown",
      "source": [
        "i.Lowercasing\n"
      ],
      "metadata": {
        "id": "TqciqRGmwdZI"
      }
    },
    {
      "cell_type": "code",
      "execution_count": null,
      "metadata": {
        "id": "WBN4VN7awXCY"
      },
      "outputs": [],
      "source": [
        "text_clean=\"the Movie Was Absolutely Fantastic and Enjoyable!\""
      ]
    },
    {
      "cell_type": "code",
      "source": [
        "def lowercase_text(text):\n",
        "  return text.lower()"
      ],
      "metadata": {
        "id": "3VJYtPCNwr4U"
      },
      "execution_count": null,
      "outputs": []
    },
    {
      "cell_type": "code",
      "source": [
        "lowercase_text(text_clean)"
      ],
      "metadata": {
        "colab": {
          "base_uri": "https://localhost:8080/",
          "height": 35
        },
        "id": "mX0etHJcwz6g",
        "outputId": "1c0b58ac-2f8e-4487-f1a0-6641333c5db0"
      },
      "execution_count": null,
      "outputs": [
        {
          "output_type": "execute_result",
          "data": {
            "text/plain": [
              "'the movie was absolutely fantastic and enjoyable!'"
            ],
            "application/vnd.google.colaboratory.intrinsic+json": {
              "type": "string"
            }
          },
          "metadata": {},
          "execution_count": 9
        }
      ]
    },
    {
      "cell_type": "markdown",
      "source": [
        "ii.Tokenization\n",
        "\n",
        "  1.split function\n",
        "\n",
        "  2.RegEx\n",
        "\n",
        "  3.NLTK\n",
        "  \n"
      ],
      "metadata": {
        "id": "WGtZF8wMxOcO"
      }
    },
    {
      "cell_type": "code",
      "source": [
        "#word tokenization\n",
        "sent1=\"hey I am going to DElhi\"\n",
        "sent1.split()"
      ],
      "metadata": {
        "colab": {
          "base_uri": "https://localhost:8080/"
        },
        "id": "STbwA7joxbVr",
        "outputId": "43780bec-4549-4928-86db-3cf66e5d1ce7"
      },
      "execution_count": null,
      "outputs": [
        {
          "output_type": "execute_result",
          "data": {
            "text/plain": [
              "['hey', 'I', 'am', 'going', 'to', 'DElhi']"
            ]
          },
          "metadata": {},
          "execution_count": 10
        }
      ]
    },
    {
      "cell_type": "code",
      "source": [
        "#sent Tokenization\n",
        "sent2=\"hey I am new to this.Will you please help me out. How to do it?\"\n",
        "sent2.split('.')"
      ],
      "metadata": {
        "colab": {
          "base_uri": "https://localhost:8080/"
        },
        "id": "OW7GD3Tqxnq1",
        "outputId": "6236ed48-0cb3-4571-f284-8284e8398f14"
      },
      "execution_count": null,
      "outputs": [
        {
          "output_type": "execute_result",
          "data": {
            "text/plain": [
              "['hey I am new to this', 'Will you please help me out', ' How to do it?']"
            ]
          },
          "metadata": {},
          "execution_count": 11
        }
      ]
    },
    {
      "cell_type": "code",
      "source": [
        "#problems with split functions\n",
        "sent3=\"hey, New Delhi is the capital of India!\"\n",
        "print(sent3.split());\n",
        "\n",
        "#problem\n",
        "\n",
        "print(sent3.split('.'))\n",
        "\n"
      ],
      "metadata": {
        "colab": {
          "base_uri": "https://localhost:8080/"
        },
        "id": "420Bk7Maw7Jj",
        "outputId": "5b780a65-b30c-4cba-b03d-1ef5a6818b59"
      },
      "execution_count": null,
      "outputs": [
        {
          "output_type": "stream",
          "name": "stdout",
          "text": [
            "['hey,', 'New', 'Delhi', 'is', 'the', 'capital', 'of', 'India!']\n",
            "['hey, New Delhi is the capital of India!']\n"
          ]
        }
      ]
    },
    {
      "cell_type": "markdown",
      "source": [
        "2.RegEx"
      ],
      "metadata": {
        "id": "udzmBTOfy3r_"
      }
    },
    {
      "cell_type": "code",
      "source": [
        "import re\n",
        "sent4=\"i am going to Delhi!!\"\n",
        "tokens=re.findall(\"[\\w']+\",sent4)\n",
        "tokens"
      ],
      "metadata": {
        "colab": {
          "base_uri": "https://localhost:8080/"
        },
        "id": "nvI_yNp8y5rP",
        "outputId": "6f9f4f3a-1b58-48ea-c17d-cfea750b60c9"
      },
      "execution_count": null,
      "outputs": [
        {
          "output_type": "stream",
          "name": "stderr",
          "text": [
            "<>:3: SyntaxWarning: invalid escape sequence '\\w'\n",
            "<>:3: SyntaxWarning: invalid escape sequence '\\w'\n",
            "/tmp/ipython-input-3131361758.py:3: SyntaxWarning: invalid escape sequence '\\w'\n",
            "  tokens=re.findall(\"[\\w']+\",sent4)\n"
          ]
        },
        {
          "output_type": "execute_result",
          "data": {
            "text/plain": [
              "['i', 'am', 'going', 'to', 'Delhi']"
            ]
          },
          "metadata": {},
          "execution_count": 13
        }
      ]
    },
    {
      "cell_type": "code",
      "source": [
        "text=\"\"\"Lorem ipsum dolor sit amet, consectetuer adipiscing elit. Aenean commodo ligula eget dolor. Aenean massa. Cum sociis natoque penatibus et magnis dis parturient montes, nascetur ridiculus mus. Donec quam felis, ultricies nec, pellentesque eu, pretium quis, sem. Nulla consequat massa quis enim. Donec pede justo, fringilla vel, aliquet nec, vulputate eget, arcu. In enim justo, rhoncus ut, imperdiet a, venenatis vitae, justo. Nullam dictum felis eu pede mollis pretium. Integer tincidunt. Cras dapibus. Vivamus elementum semper nisi. Aenean vulputate eleifend tellus. Aenean leo ligula, porttitor eu, consequat vitae, eleifend ac, enim. Aliquam lorem ante, dapibus in, viverra quis, feugiat a, tellus. Phasellus viverra nulla ut metus varius laoreet. Quisque rutrum. Aenean imperdiet. Etiam ultricies nisi vel augue. Curabitur ullamcorper ultricies nisi. Nam eget dui. Etiam rhoncus. Maecenas tempus, tellus eget condimentum rhoncus, sem quam semper libero, sit amet adipiscing sem neque sed ipsum. Nam quam nunc, blandit vel, luctus pulvinar, hendrerit id, lorem. Maecenas nec odio et ante tincidunt tempus. Donec vitae sapien ut libero venenatis faucibus. Nullam quis ante. Etiam sit amet orci eget eros faucibus tincidunt. Duis leo. Sed fringilla mauris sit amet nibh. Donec sodales sagittis magna. Sed consequat, leo eget bibendum sodales, augue velit cursus nunc,\"\"\"\n",
        "\n",
        "sentences=re.compile('[.?\\\"]').split(text)\n",
        "sentences"
      ],
      "metadata": {
        "colab": {
          "base_uri": "https://localhost:8080/"
        },
        "id": "scx-LwBWyzjR",
        "outputId": "c7a286f7-a07d-4a54-99be-da58c993b894"
      },
      "execution_count": null,
      "outputs": [
        {
          "output_type": "execute_result",
          "data": {
            "text/plain": [
              "['Lorem ipsum dolor sit amet, consectetuer adipiscing elit',\n",
              " ' Aenean commodo ligula eget dolor',\n",
              " ' Aenean massa',\n",
              " ' Cum sociis natoque penatibus et magnis dis parturient montes, nascetur ridiculus mus',\n",
              " ' Donec quam felis, ultricies nec, pellentesque eu, pretium quis, sem',\n",
              " ' Nulla consequat massa quis enim',\n",
              " ' Donec pede justo, fringilla vel, aliquet nec, vulputate eget, arcu',\n",
              " ' In enim justo, rhoncus ut, imperdiet a, venenatis vitae, justo',\n",
              " ' Nullam dictum felis eu pede mollis pretium',\n",
              " ' Integer tincidunt',\n",
              " ' Cras dapibus',\n",
              " ' Vivamus elementum semper nisi',\n",
              " ' Aenean vulputate eleifend tellus',\n",
              " ' Aenean leo ligula, porttitor eu, consequat vitae, eleifend ac, enim',\n",
              " ' Aliquam lorem ante, dapibus in, viverra quis, feugiat a, tellus',\n",
              " ' Phasellus viverra nulla ut metus varius laoreet',\n",
              " ' Quisque rutrum',\n",
              " ' Aenean imperdiet',\n",
              " ' Etiam ultricies nisi vel augue',\n",
              " ' Curabitur ullamcorper ultricies nisi',\n",
              " ' Nam eget dui',\n",
              " ' Etiam rhoncus',\n",
              " ' Maecenas tempus, tellus eget condimentum rhoncus, sem quam semper libero, sit amet adipiscing sem neque sed ipsum',\n",
              " ' Nam quam nunc, blandit vel, luctus pulvinar, hendrerit id, lorem',\n",
              " ' Maecenas nec odio et ante tincidunt tempus',\n",
              " ' Donec vitae sapien ut libero venenatis faucibus',\n",
              " ' Nullam quis ante',\n",
              " ' Etiam sit amet orci eget eros faucibus tincidunt',\n",
              " ' Duis leo',\n",
              " ' Sed fringilla mauris sit amet nibh',\n",
              " ' Donec sodales sagittis magna',\n",
              " ' Sed consequat, leo eget bibendum sodales, augue velit cursus nunc,']"
            ]
          },
          "metadata": {},
          "execution_count": 14
        }
      ]
    },
    {
      "cell_type": "markdown",
      "source": [
        "3.NLTK\n"
      ],
      "metadata": {
        "id": "bvgFrAUF0UoZ"
      }
    },
    {
      "cell_type": "code",
      "source": [
        "\n",
        "import nltk\n",
        "nltk.download('punkt_tab')\n",
        "from nltk.tokenize import word_tokenize,sent_tokenize"
      ],
      "metadata": {
        "colab": {
          "base_uri": "https://localhost:8080/"
        },
        "id": "ofLZUe0G0WrW",
        "outputId": "2c5430b0-7044-438c-e9ef-4ff7d3fd819d"
      },
      "execution_count": null,
      "outputs": [
        {
          "output_type": "stream",
          "name": "stderr",
          "text": [
            "[nltk_data] Downloading package punkt_tab to /root/nltk_data...\n",
            "[nltk_data]   Package punkt_tab is already up-to-date!\n"
          ]
        }
      ]
    },
    {
      "cell_type": "code",
      "source": [
        "#word tokenization\n",
        "sent1=\"i am going to Delhi!!\"\n",
        "word_tokenize(sent1)"
      ],
      "metadata": {
        "colab": {
          "base_uri": "https://localhost:8080/"
        },
        "id": "1c5_WH6y0iSt",
        "outputId": "24502509-c4c6-4f64-dd94-88b6be3f76e4"
      },
      "execution_count": null,
      "outputs": [
        {
          "output_type": "execute_result",
          "data": {
            "text/plain": [
              "['i', 'am', 'going', 'to', 'Delhi', '!', '!']"
            ]
          },
          "metadata": {},
          "execution_count": 16
        }
      ]
    },
    {
      "cell_type": "code",
      "source": [
        "s2=\"i have a Ph.D in A.I\"\n",
        "print(word_tokenize(s2))\n",
        "\n",
        "#problem--email puri alg krdii\n",
        "s3=\"my email id is abc@gmail.com\"\n",
        "print(word_tokenize(s3))"
      ],
      "metadata": {
        "colab": {
          "base_uri": "https://localhost:8080/"
        },
        "id": "Pn0vi6Bk05ZN",
        "outputId": "ca79ca35-f1bf-4dc8-ebfd-ee67fe3de5b6"
      },
      "execution_count": null,
      "outputs": [
        {
          "output_type": "stream",
          "name": "stdout",
          "text": [
            "['i', 'have', 'a', 'Ph.D', 'in', 'A.I']\n",
            "['my', 'email', 'id', 'is', 'abc', '@', 'gmail.com']\n"
          ]
        }
      ]
    },
    {
      "cell_type": "code",
      "source": [
        "dummy=\"Lorem ipsum dolor sit amet, consectetuer adipiscing elit. Aenean commodo ligula eget dolor. Aenean massa. Cum sociis natoque penatibus et magnis dis parturient montes, nascetur ridiculus mus. Donec quam felis, ultricies nec, pellentesque eu, pretium quis, sem. Nulla consequat massa quis enim. Donec pede justo, fringilla vel, aliquet nec, vulputate eget, arcu. In enim justo, rhoncus ut, imperdiet a, venenatis vitae, justo. Nullam dictum felis eu pede mollis pretium. Integer tincidunt. Cras dapibus. Vivamus elementum semper nisi. Aenean vulputate eleifend tellus. Aenean leo ligula, porttitor eu, consequat vitae, eleifend ac, enim. Aliquam lorem ante, dapibus in, viverra quis, feugiat a, tellus. Phasellus viverra nulla ut metus varius laoreet. Quisque rutrum. Aenean imperdiet. Etiam ultricies nisi vel augue. Curabitur ullamcorper ultricies nisi. Nam eget dui. Etiam rhoncus. Maecenas tempus, tellus eget condimentum rhoncus, sem quam semper libero, sit amet adipiscing sem neque sed ipsum. Nam quam nunc, blandit vel, luctus pulvinar, hendrerit id, lorem. Maecenas nec odio et ante tincidunt tempus. Donec vitae sapien ut libero venenatis faucibus. Nullam quis ante. Etiam sit amet orci eget eros faucibus tincidunt. Duis leo. Sed fringilla mauris sit amet nibh. Donec sodales sagittis magna. Sed consequat, leo eget bibendum sodales, augue velit cursus nunc,\"\n",
        "print(dummy)\n",
        "sent1=word_tokenize(dummy)\n",
        "print(sent1)"
      ],
      "metadata": {
        "colab": {
          "base_uri": "https://localhost:8080/"
        },
        "id": "rhB-WStW2Mr_",
        "outputId": "394e9ff4-3d80-4afa-83eb-1df52bc70ca1"
      },
      "execution_count": null,
      "outputs": [
        {
          "output_type": "stream",
          "name": "stdout",
          "text": [
            "Lorem ipsum dolor sit amet, consectetuer adipiscing elit. Aenean commodo ligula eget dolor. Aenean massa. Cum sociis natoque penatibus et magnis dis parturient montes, nascetur ridiculus mus. Donec quam felis, ultricies nec, pellentesque eu, pretium quis, sem. Nulla consequat massa quis enim. Donec pede justo, fringilla vel, aliquet nec, vulputate eget, arcu. In enim justo, rhoncus ut, imperdiet a, venenatis vitae, justo. Nullam dictum felis eu pede mollis pretium. Integer tincidunt. Cras dapibus. Vivamus elementum semper nisi. Aenean vulputate eleifend tellus. Aenean leo ligula, porttitor eu, consequat vitae, eleifend ac, enim. Aliquam lorem ante, dapibus in, viverra quis, feugiat a, tellus. Phasellus viverra nulla ut metus varius laoreet. Quisque rutrum. Aenean imperdiet. Etiam ultricies nisi vel augue. Curabitur ullamcorper ultricies nisi. Nam eget dui. Etiam rhoncus. Maecenas tempus, tellus eget condimentum rhoncus, sem quam semper libero, sit amet adipiscing sem neque sed ipsum. Nam quam nunc, blandit vel, luctus pulvinar, hendrerit id, lorem. Maecenas nec odio et ante tincidunt tempus. Donec vitae sapien ut libero venenatis faucibus. Nullam quis ante. Etiam sit amet orci eget eros faucibus tincidunt. Duis leo. Sed fringilla mauris sit amet nibh. Donec sodales sagittis magna. Sed consequat, leo eget bibendum sodales, augue velit cursus nunc,\n",
            "['Lorem', 'ipsum', 'dolor', 'sit', 'amet', ',', 'consectetuer', 'adipiscing', 'elit', '.', 'Aenean', 'commodo', 'ligula', 'eget', 'dolor', '.', 'Aenean', 'massa', '.', 'Cum', 'sociis', 'natoque', 'penatibus', 'et', 'magnis', 'dis', 'parturient', 'montes', ',', 'nascetur', 'ridiculus', 'mus', '.', 'Donec', 'quam', 'felis', ',', 'ultricies', 'nec', ',', 'pellentesque', 'eu', ',', 'pretium', 'quis', ',', 'sem', '.', 'Nulla', 'consequat', 'massa', 'quis', 'enim', '.', 'Donec', 'pede', 'justo', ',', 'fringilla', 'vel', ',', 'aliquet', 'nec', ',', 'vulputate', 'eget', ',', 'arcu', '.', 'In', 'enim', 'justo', ',', 'rhoncus', 'ut', ',', 'imperdiet', 'a', ',', 'venenatis', 'vitae', ',', 'justo', '.', 'Nullam', 'dictum', 'felis', 'eu', 'pede', 'mollis', 'pretium', '.', 'Integer', 'tincidunt', '.', 'Cras', 'dapibus', '.', 'Vivamus', 'elementum', 'semper', 'nisi', '.', 'Aenean', 'vulputate', 'eleifend', 'tellus', '.', 'Aenean', 'leo', 'ligula', ',', 'porttitor', 'eu', ',', 'consequat', 'vitae', ',', 'eleifend', 'ac', ',', 'enim', '.', 'Aliquam', 'lorem', 'ante', ',', 'dapibus', 'in', ',', 'viverra', 'quis', ',', 'feugiat', 'a', ',', 'tellus', '.', 'Phasellus', 'viverra', 'nulla', 'ut', 'metus', 'varius', 'laoreet', '.', 'Quisque', 'rutrum', '.', 'Aenean', 'imperdiet', '.', 'Etiam', 'ultricies', 'nisi', 'vel', 'augue', '.', 'Curabitur', 'ullamcorper', 'ultricies', 'nisi', '.', 'Nam', 'eget', 'dui', '.', 'Etiam', 'rhoncus', '.', 'Maecenas', 'tempus', ',', 'tellus', 'eget', 'condimentum', 'rhoncus', ',', 'sem', 'quam', 'semper', 'libero', ',', 'sit', 'amet', 'adipiscing', 'sem', 'neque', 'sed', 'ipsum', '.', 'Nam', 'quam', 'nunc', ',', 'blandit', 'vel', ',', 'luctus', 'pulvinar', ',', 'hendrerit', 'id', ',', 'lorem', '.', 'Maecenas', 'nec', 'odio', 'et', 'ante', 'tincidunt', 'tempus', '.', 'Donec', 'vitae', 'sapien', 'ut', 'libero', 'venenatis', 'faucibus', '.', 'Nullam', 'quis', 'ante', '.', 'Etiam', 'sit', 'amet', 'orci', 'eget', 'eros', 'faucibus', 'tincidunt', '.', 'Duis', 'leo', '.', 'Sed', 'fringilla', 'mauris', 'sit', 'amet', 'nibh', '.', 'Donec', 'sodales', 'sagittis', 'magna', '.', 'Sed', 'consequat', ',', 'leo', 'eget', 'bibendum', 'sodales', ',', 'augue', 'velit', 'cursus', 'nunc', ',']\n"
          ]
        }
      ]
    },
    {
      "cell_type": "markdown",
      "source": [
        "4.Spacy"
      ],
      "metadata": {
        "id": "-9dxSAvL3O0f"
      }
    },
    {
      "cell_type": "code",
      "source": [
        "import spacy\n",
        "nlp=spacy.load('en_core_web_sm')"
      ],
      "metadata": {
        "id": "R7ZB3t093P9K"
      },
      "execution_count": null,
      "outputs": []
    },
    {
      "cell_type": "code",
      "source": [
        "doc1=nlp(s3)\n"
      ],
      "metadata": {
        "id": "1K47_Y-22WPG"
      },
      "execution_count": null,
      "outputs": []
    },
    {
      "cell_type": "code",
      "source": [
        "s1='hello how are you'\n",
        "s2='I am fine guyssss'\n",
        "doc1=nlp(s1)\n",
        "doc2=nlp(s2)\n",
        "print(doc1)\n",
        "print(doc2)"
      ],
      "metadata": {
        "colab": {
          "base_uri": "https://localhost:8080/"
        },
        "id": "a428qjtP4EBD",
        "outputId": "72dfe534-8de7-4d2c-d178-2ea59683b2a2"
      },
      "execution_count": null,
      "outputs": [
        {
          "output_type": "stream",
          "name": "stdout",
          "text": [
            "hello how are you\n",
            "I am fine guyssss\n"
          ]
        }
      ]
    },
    {
      "cell_type": "code",
      "source": [
        "for token in doc1:\n",
        "  print(token)"
      ],
      "metadata": {
        "colab": {
          "base_uri": "https://localhost:8080/"
        },
        "id": "haji4_cE3zIs",
        "outputId": "3b92fce2-e888-4477-cf5a-aeb5a9c95961"
      },
      "execution_count": null,
      "outputs": [
        {
          "output_type": "stream",
          "name": "stdout",
          "text": [
            "my\n",
            "email\n",
            "i\n",
            "d\n",
            "is\n",
            "abc@gmail.com\n"
          ]
        }
      ]
    },
    {
      "cell_type": "code",
      "source": [
        "#stop word removal\n",
        "\n",
        "import nltk\n",
        "nltk.download('stopwords')\n",
        "from nltk.corpus import stopwords"
      ],
      "metadata": {
        "colab": {
          "base_uri": "https://localhost:8080/"
        },
        "id": "6Qxkv0mm4aDQ",
        "outputId": "ba67eab1-eeca-4cf3-864f-d49d8e2302a9"
      },
      "execution_count": null,
      "outputs": [
        {
          "output_type": "stream",
          "name": "stderr",
          "text": [
            "[nltk_data] Downloading package stopwords to /root/nltk_data...\n",
            "[nltk_data]   Package stopwords is already up-to-date!\n"
          ]
        }
      ]
    },
    {
      "cell_type": "code",
      "source": [
        "print(stopwords.words('english'))\n",
        "print(stopwords.words('french'))"
      ],
      "metadata": {
        "colab": {
          "base_uri": "https://localhost:8080/"
        },
        "id": "YNPLHtXo48Pn",
        "outputId": "4cf3d44d-f1b0-4b5b-b4f7-bbbb13dd3fa1"
      },
      "execution_count": null,
      "outputs": [
        {
          "output_type": "stream",
          "name": "stdout",
          "text": [
            "['a', 'about', 'above', 'after', 'again', 'against', 'ain', 'all', 'am', 'an', 'and', 'any', 'are', 'aren', \"aren't\", 'as', 'at', 'be', 'because', 'been', 'before', 'being', 'below', 'between', 'both', 'but', 'by', 'can', 'couldn', \"couldn't\", 'd', 'did', 'didn', \"didn't\", 'do', 'does', 'doesn', \"doesn't\", 'doing', 'don', \"don't\", 'down', 'during', 'each', 'few', 'for', 'from', 'further', 'had', 'hadn', \"hadn't\", 'has', 'hasn', \"hasn't\", 'have', 'haven', \"haven't\", 'having', 'he', \"he'd\", \"he'll\", 'her', 'here', 'hers', 'herself', \"he's\", 'him', 'himself', 'his', 'how', 'i', \"i'd\", 'if', \"i'll\", \"i'm\", 'in', 'into', 'is', 'isn', \"isn't\", 'it', \"it'd\", \"it'll\", \"it's\", 'its', 'itself', \"i've\", 'just', 'll', 'm', 'ma', 'me', 'mightn', \"mightn't\", 'more', 'most', 'mustn', \"mustn't\", 'my', 'myself', 'needn', \"needn't\", 'no', 'nor', 'not', 'now', 'o', 'of', 'off', 'on', 'once', 'only', 'or', 'other', 'our', 'ours', 'ourselves', 'out', 'over', 'own', 're', 's', 'same', 'shan', \"shan't\", 'she', \"she'd\", \"she'll\", \"she's\", 'should', 'shouldn', \"shouldn't\", \"should've\", 'so', 'some', 'such', 't', 'than', 'that', \"that'll\", 'the', 'their', 'theirs', 'them', 'themselves', 'then', 'there', 'these', 'they', \"they'd\", \"they'll\", \"they're\", \"they've\", 'this', 'those', 'through', 'to', 'too', 'under', 'until', 'up', 've', 'very', 'was', 'wasn', \"wasn't\", 'we', \"we'd\", \"we'll\", \"we're\", 'were', 'weren', \"weren't\", \"we've\", 'what', 'when', 'where', 'which', 'while', 'who', 'whom', 'why', 'will', 'with', 'won', \"won't\", 'wouldn', \"wouldn't\", 'y', 'you', \"you'd\", \"you'll\", 'your', \"you're\", 'yours', 'yourself', 'yourselves', \"you've\"]\n",
            "['au', 'aux', 'avec', 'ce', 'ces', 'dans', 'de', 'des', 'du', 'elle', 'en', 'et', 'eux', 'il', 'ils', 'je', 'la', 'le', 'les', 'leur', 'lui', 'ma', 'mais', 'me', 'même', 'mes', 'moi', 'mon', 'ne', 'nos', 'notre', 'nous', 'on', 'ou', 'par', 'pas', 'pour', 'qu', 'que', 'qui', 'sa', 'se', 'ses', 'son', 'sur', 'ta', 'te', 'tes', 'toi', 'ton', 'tu', 'un', 'une', 'vos', 'votre', 'vous', 'c', 'd', 'j', 'l', 'à', 'm', 'n', 's', 't', 'y', 'été', 'étée', 'étées', 'étés', 'étant', 'étante', 'étants', 'étantes', 'suis', 'es', 'est', 'sommes', 'êtes', 'sont', 'serai', 'seras', 'sera', 'serons', 'serez', 'seront', 'serais', 'serait', 'serions', 'seriez', 'seraient', 'étais', 'était', 'étions', 'étiez', 'étaient', 'fus', 'fut', 'fûmes', 'fûtes', 'furent', 'sois', 'soit', 'soyons', 'soyez', 'soient', 'fusse', 'fusses', 'fût', 'fussions', 'fussiez', 'fussent', 'ayant', 'ayante', 'ayantes', 'ayants', 'eu', 'eue', 'eues', 'eus', 'ai', 'as', 'avons', 'avez', 'ont', 'aurai', 'auras', 'aura', 'aurons', 'aurez', 'auront', 'aurais', 'aurait', 'aurions', 'auriez', 'auraient', 'avais', 'avait', 'avions', 'aviez', 'avaient', 'eut', 'eûmes', 'eûtes', 'eurent', 'aie', 'aies', 'ait', 'ayons', 'ayez', 'aient', 'eusse', 'eusses', 'eût', 'eussions', 'eussiez', 'eussent']\n"
          ]
        }
      ]
    },
    {
      "cell_type": "code",
      "source": [
        "def remove_stopwords(text):\n",
        "  new_text=[]\n",
        "\n",
        "  for word in text.split():\n",
        "    if word in stopwords.words('english'):\n",
        "      new_text.append(\" \")\n",
        "    else:\n",
        "      new_text.append(word)\n",
        "  x=new_text[:]\n",
        "  new_text.clear()\n",
        "  return \" \".join(x)"
      ],
      "metadata": {
        "id": "fkq2Zsgv5VOB"
      },
      "execution_count": null,
      "outputs": []
    },
    {
      "cell_type": "code",
      "source": [
        "data='Hello guyss how are you . i a am ,i am fine and hope same for you all!!!'\n",
        "remove_stopwords(data)"
      ],
      "metadata": {
        "colab": {
          "base_uri": "https://localhost:8080/",
          "height": 35
        },
        "id": "3VOwdCPI53y9",
        "outputId": "82c06a7c-0b1a-4d18-ba45-fbddda66bf69"
      },
      "execution_count": null,
      "outputs": [
        {
          "output_type": "execute_result",
          "data": {
            "text/plain": [
              "'Hello guyss       .       ,i   fine   hope       all!!!'"
            ],
            "application/vnd.google.colaboratory.intrinsic+json": {
              "type": "string"
            }
          },
          "metadata": {},
          "execution_count": 34
        }
      ]
    },
    {
      "cell_type": "code",
      "source": [
        "#chat_word\n",
        "chat_words={\n",
        "    'AFAIK':'As Far As I Know',\n",
        "    'AFK':'Away From Keyboard',\n",
        "    'ASAP':'As Soon As Possible'\n",
        "}"
      ],
      "metadata": {
        "id": "HMZlJmZf69fr"
      },
      "execution_count": null,
      "outputs": []
    },
    {
      "cell_type": "code",
      "source": [
        "def chat_conv(text):\n",
        "  new_text=[]\n",
        "  for w in text.split():\n",
        "    if w.upper() in chat_words:\n",
        "      new_text.append(chat_words[w.upper()])\n",
        "    else:\n",
        "      new_text.append(w)\n",
        "  return \" \".join(new_text)"
      ],
      "metadata": {
        "id": "UFHvpe9-7Zqx"
      },
      "execution_count": null,
      "outputs": []
    },
    {
      "cell_type": "code",
      "source": [
        "data=\"hello AFK\"\n",
        "chat_conv(data)"
      ],
      "metadata": {
        "colab": {
          "base_uri": "https://localhost:8080/",
          "height": 35
        },
        "id": "eO8GREcd76UJ",
        "outputId": "4cb30122-3bcf-4474-8eb5-8d778ff51a19"
      },
      "execution_count": null,
      "outputs": [
        {
          "output_type": "execute_result",
          "data": {
            "text/plain": [
              "'hello Away From Keyboard'"
            ],
            "application/vnd.google.colaboratory.intrinsic+json": {
              "type": "string"
            }
          },
          "metadata": {},
          "execution_count": 37
        }
      ]
    },
    {
      "cell_type": "markdown",
      "source": [
        "V.stemming/lemmatizationn"
      ],
      "metadata": {
        "id": "cplkq7Go8Dqv"
      }
    },
    {
      "cell_type": "code",
      "source": [
        "#stemming:extracts the root of the word but not ensures that root word is a part of eng languagee\n",
        "from nltk.stem.porter import PorterStemmer"
      ],
      "metadata": {
        "id": "fSjrRxed8UBG"
      },
      "execution_count": null,
      "outputs": []
    },
    {
      "cell_type": "code",
      "source": [
        "ps=PorterStemmer()\n",
        "def stem_words(text):\n",
        "  return \" \".join([ps.stem(word) for word in text.split()])"
      ],
      "metadata": {
        "id": "l-Oyc96h8i3M"
      },
      "execution_count": null,
      "outputs": []
    },
    {
      "cell_type": "code",
      "source": [
        "\n",
        "sample=\"walking walked walks walks\"\n",
        "stem_words(sample)"
      ],
      "metadata": {
        "colab": {
          "base_uri": "https://localhost:8080/",
          "height": 35
        },
        "id": "Q1eAsxH48ynQ",
        "outputId": "54577593-21b7-4f76-ac6e-aa26bd356000"
      },
      "execution_count": null,
      "outputs": [
        {
          "output_type": "execute_result",
          "data": {
            "text/plain": [
              "'walk walk walk walk'"
            ],
            "application/vnd.google.colaboratory.intrinsic+json": {
              "type": "string"
            }
          },
          "metadata": {},
          "execution_count": 42
        }
      ]
    },
    {
      "cell_type": "code",
      "source": [
        "import nltk\n",
        "nltk.download('wordnet')"
      ],
      "metadata": {
        "colab": {
          "base_uri": "https://localhost:8080/"
        },
        "id": "GBXaYT7g8_lN",
        "outputId": "63d462b9-f003-46ec-b052-b9ae38ff62a6"
      },
      "execution_count": null,
      "outputs": [
        {
          "output_type": "stream",
          "name": "stderr",
          "text": [
            "[nltk_data] Downloading package wordnet to /root/nltk_data...\n"
          ]
        },
        {
          "output_type": "execute_result",
          "data": {
            "text/plain": [
              "True"
            ]
          },
          "metadata": {},
          "execution_count": 43
        }
      ]
    },
    {
      "cell_type": "code",
      "source": [
        "#Lemmatization:ensure the root word is a part of eng lang or dictionary\n",
        "\n",
        "import nltk\n",
        "from nltk.stem import WordNetLemmatizer\n",
        "wordnet_lemmatizer=WordNetLemmatizer()"
      ],
      "metadata": {
        "id": "n1NOqcPd9bwq"
      },
      "execution_count": null,
      "outputs": []
    },
    {
      "cell_type": "code",
      "source": [
        "sentence=\"He was running and eating at same time.\"\n",
        "puntuations=\"?:!.,;\"\n",
        "sentence_words=nltk.word_tokenize(sentence)\n",
        "for word in sentence_words:\n",
        "  if word in puntuations:\n",
        "    sentence_words.remove(word)\n",
        "\n",
        "sentence_words"
      ],
      "metadata": {
        "colab": {
          "base_uri": "https://localhost:8080/"
        },
        "id": "qwsXj5Sh9wXM",
        "outputId": "13cc9cac-77db-4793-e524-0ba43ad0e749"
      },
      "execution_count": null,
      "outputs": [
        {
          "output_type": "execute_result",
          "data": {
            "text/plain": [
              "['He', 'was', 'running', 'and', 'eating', 'at', 'same', 'time']"
            ]
          },
          "metadata": {},
          "execution_count": 46
        }
      ]
    },
    {
      "cell_type": "markdown",
      "source": [
        "vi.Language Detection"
      ],
      "metadata": {
        "id": "DhcNhhFc_SVo"
      }
    },
    {
      "cell_type": "code",
      "source": [],
      "metadata": {
        "id": "y1S3Mmsz_dWr"
      },
      "execution_count": null,
      "outputs": []
    },
    {
      "cell_type": "code",
      "source": [
        "!pip install langdetect"
      ],
      "metadata": {
        "colab": {
          "base_uri": "https://localhost:8080/"
        },
        "id": "tOE6IAP992IN",
        "outputId": "253ed4ec-66df-435a-cd3d-7a98c0454867"
      },
      "execution_count": null,
      "outputs": [
        {
          "output_type": "stream",
          "name": "stdout",
          "text": [
            "Collecting langdetect\n",
            "  Downloading langdetect-1.0.9.tar.gz (981 kB)\n",
            "\u001b[2K     \u001b[90m━━━━━━━━━━━━━━━━━━━━━━━━━━━━━━━━━━━━━━━\u001b[0m \u001b[32m981.5/981.5 kB\u001b[0m \u001b[31m3.5 MB/s\u001b[0m eta \u001b[36m0:00:00\u001b[0m\n",
            "\u001b[?25h  Preparing metadata (setup.py) ... \u001b[?25l\u001b[?25hdone\n",
            "Requirement already satisfied: six in /usr/local/lib/python3.12/dist-packages (from langdetect) (1.17.0)\n",
            "Building wheels for collected packages: langdetect\n",
            "  Building wheel for langdetect (setup.py) ... \u001b[?25l\u001b[?25hdone\n",
            "  Created wheel for langdetect: filename=langdetect-1.0.9-py3-none-any.whl size=993223 sha256=f4d5b7dbcb6e02323f48b086701a4275444f38a03e115c440e9349e2bb1d03b0\n",
            "  Stored in directory: /root/.cache/pip/wheels/c1/67/88/e844b5b022812e15a52e4eaa38a1e709e99f06f6639d7e3ba7\n",
            "Successfully built langdetect\n",
            "Installing collected packages: langdetect\n",
            "Successfully installed langdetect-1.0.9\n"
          ]
        }
      ]
    },
    {
      "cell_type": "code",
      "source": [
        "n2=\"La pelicula fue absolutamente fantastica y agradable\""
      ],
      "metadata": {
        "id": "gJV-cyFS93CE"
      },
      "execution_count": null,
      "outputs": []
    },
    {
      "cell_type": "code",
      "source": [
        "from langdetect import detect,detect_langs"
      ],
      "metadata": {
        "id": "3sowRgXK_obe"
      },
      "execution_count": null,
      "outputs": []
    },
    {
      "cell_type": "code",
      "source": [
        "data='hello how are you'\n",
        "def detect_language(text):\n",
        "  try:\n",
        "    lang=detect(text)\n",
        "    lang_prob=detect_langs(text)\n",
        "    return lang,lang_prob\n",
        "  except Exception as e:\n",
        "    return detect_langs(text)\n",
        "print(detect_language(data))"
      ],
      "metadata": {
        "colab": {
          "base_uri": "https://localhost:8080/"
        },
        "id": "wA0Qw-w5_uhn",
        "outputId": "c9c300d0-f1d5-4ca1-c03a-0d6fb9f48c50"
      },
      "execution_count": null,
      "outputs": [
        {
          "output_type": "stream",
          "name": "stdout",
          "text": [
            "('en', [en:0.857139461533519, cy:0.14285912895828637])\n"
          ]
        }
      ]
    },
    {
      "cell_type": "markdown",
      "source": [
        "c.ADVANCED PREPROCESSING"
      ],
      "metadata": {
        "id": "AGcyXWDHCQoe"
      }
    },
    {
      "cell_type": "markdown",
      "source": [
        "1.POS TaGGING"
      ],
      "metadata": {
        "id": "JpMHXJ1-CUUZ"
      }
    },
    {
      "cell_type": "code",
      "source": [
        "TEXT_ADV1=\"THE QUICK BROWN FOX JUMPS OVER THE lazy dog\""
      ],
      "metadata": {
        "id": "UEt8Pd3BAcDG"
      },
      "execution_count": null,
      "outputs": []
    },
    {
      "cell_type": "code",
      "source": [
        "##POS TAGGINg\n",
        "import nltk\n",
        "nltk.download('punkt')\n",
        "nltk.download('averaged_perceptron_tagger_eng')\n",
        "data='The quick brown fox jumps over the lazy dog'\n",
        "import nltk\n",
        "nltk.download('averaged_perceptron_tagger')\n",
        "def pos_tag_text(data):\n",
        "  return nltk.pos_tag(nltk.word_tokenize(data))\n",
        "pos_tag_text(data)"
      ],
      "metadata": {
        "colab": {
          "base_uri": "https://localhost:8080/"
        },
        "id": "sB57EsZZC2HX",
        "outputId": "144b05b5-6eff-4183-b6f2-738bfc7768dc"
      },
      "execution_count": null,
      "outputs": [
        {
          "output_type": "stream",
          "name": "stderr",
          "text": [
            "[nltk_data] Downloading package punkt to /root/nltk_data...\n",
            "[nltk_data]   Package punkt is already up-to-date!\n",
            "[nltk_data] Downloading package averaged_perceptron_tagger_eng to\n",
            "[nltk_data]     /root/nltk_data...\n",
            "[nltk_data]   Unzipping taggers/averaged_perceptron_tagger_eng.zip.\n",
            "[nltk_data] Downloading package averaged_perceptron_tagger to\n",
            "[nltk_data]     /root/nltk_data...\n",
            "[nltk_data]   Package averaged_perceptron_tagger is already up-to-\n",
            "[nltk_data]       date!\n"
          ]
        },
        {
          "output_type": "execute_result",
          "data": {
            "text/plain": [
              "[('The', 'DT'),\n",
              " ('quick', 'JJ'),\n",
              " ('brown', 'NN'),\n",
              " ('fox', 'NN'),\n",
              " ('jumps', 'VBZ'),\n",
              " ('over', 'IN'),\n",
              " ('the', 'DT'),\n",
              " ('lazy', 'JJ'),\n",
              " ('dog', 'NN')]"
            ]
          },
          "metadata": {},
          "execution_count": 56
        }
      ]
    },
    {
      "cell_type": "code",
      "source": [
        "##Example usage\n",
        "data='the quick brown fox jumps over the lazy dog'\n",
        "pos_tags=pos_tag_text(data)\n",
        "print('text',data)\n",
        "print('POS tags',pos_tags)"
      ],
      "metadata": {
        "colab": {
          "base_uri": "https://localhost:8080/"
        },
        "id": "vdS6IrT9DG_e",
        "outputId": "cc70f7ab-49e0-46d1-85b4-d1d8bb965ebe"
      },
      "execution_count": null,
      "outputs": [
        {
          "output_type": "stream",
          "name": "stdout",
          "text": [
            "text the quick brown fox jumps over the lazy dog\n",
            "POS tags [('the', 'DT'), ('quick', 'JJ'), ('brown', 'NN'), ('fox', 'NN'), ('jumps', 'VBZ'), ('over', 'IN'), ('the', 'DT'), ('lazy', 'JJ'), ('dog', 'NN')]\n"
          ]
        }
      ]
    },
    {
      "cell_type": "code",
      "source": [
        "import spacy\n",
        "nlp=spacy.load('en_core_web_sm')\n",
        "doc = nlp(u'Apple is looking at buying U.K. startup for $1 billion')\n",
        "def parse_sentence(doc):\n",
        "  for token in doc:\n",
        "    print(token.text,token.pos_,token.tag_,spacy.explain(token.tag_))\n",
        "parse_sentence(doc)\n"
      ],
      "metadata": {
        "colab": {
          "base_uri": "https://localhost:8080/"
        },
        "id": "Npa6H4IGD2eS",
        "outputId": "5e32515e-9081-4fdd-a24a-849968d11a4e"
      },
      "execution_count": null,
      "outputs": [
        {
          "output_type": "stream",
          "name": "stdout",
          "text": [
            "Apple PROPN NNP noun, proper singular\n",
            "is AUX VBZ verb, 3rd person singular present\n",
            "looking VERB VBG verb, gerund or present participle\n",
            "at ADP IN conjunction, subordinating or preposition\n",
            "buying VERB VBG verb, gerund or present participle\n",
            "U.K. PROPN NNP noun, proper singular\n",
            "startup VERB VBD verb, past tense\n",
            "for ADP IN conjunction, subordinating or preposition\n",
            "$ SYM $ symbol, currency\n",
            "1 NUM CD cardinal number\n",
            "billion NUM CD cardinal number\n"
          ]
        }
      ]
    }
  ]
}